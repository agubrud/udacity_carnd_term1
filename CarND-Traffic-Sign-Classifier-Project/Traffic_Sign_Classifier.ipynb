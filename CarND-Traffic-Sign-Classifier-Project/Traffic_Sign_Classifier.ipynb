{
 "cells": [
  {
   "cell_type": "markdown",
   "metadata": {},
   "source": [
    "# Self-Driving Car Engineer Nanodegree\n",
    "\n",
    "## Deep Learning\n",
    "\n",
    "## Project: Build a Traffic Sign Recognition Classifier\n",
    "\n",
    "In this notebook, a template is provided for you to implement your functionality in stages, which is required to successfully complete this project. If additional code is required that cannot be included in the notebook, be sure that the Python code is successfully imported and included in your submission if necessary. \n",
    "\n",
    "> **Note**: Once you have completed all of the code implementations, you need to finalize your work by exporting the iPython Notebook as an HTML document. Before exporting the notebook to html, all of the code cells need to have been run so that reviewers can see the final implementation and output. You can then export the notebook by using the menu above and navigating to  \\n\",\n",
    "    \"**File -> Download as -> HTML (.html)**. Include the finished document along with this notebook as your submission. \n",
    "\n",
    "In addition to implementing code, there is a writeup to complete. The writeup should be completed in a separate file, which can be either a markdown file or a pdf document. There is a [write up template](https://github.com/udacity/CarND-Traffic-Sign-Classifier-Project/blob/master/writeup_template.md) that can be used to guide the writing process. Completing the code template and writeup template will cover all of the [rubric points](https://review.udacity.com/#!/rubrics/481/view) for this project.\n",
    "\n",
    "The [rubric](https://review.udacity.com/#!/rubrics/481/view) contains \"Stand Out Suggestions\" for enhancing the project beyond the minimum requirements. The stand out suggestions are optional. If you decide to pursue the \"stand out suggestions\", you can include the code in this Ipython notebook and also discuss the results in the writeup file.\n",
    "\n",
    "\n",
    ">**Note:** Code and Markdown cells can be executed using the **Shift + Enter** keyboard shortcut. In addition, Markdown cells can be edited by typically double-clicking the cell to enter edit mode."
   ]
  },
  {
   "cell_type": "markdown",
   "metadata": {},
   "source": [
    "---\n",
    "## Step 0: Load The Data"
   ]
  },
  {
   "cell_type": "code",
   "execution_count": null,
   "metadata": {
    "collapsed": true
   },
   "outputs": [],
   "source": [
    "# Load pickled data\n",
    "import pickle\n",
    "import numpy as np\n",
    "\n",
    "# TODO: Fill this in based on where you saved the training and testing data\n",
    "\n",
    "#training_file = '/home/carnd/traffic-signs-data/train.p'\n",
    "#validation_file='/home/carnd/traffic-signs-data/valid.p'\n",
    "#testing_file = '/home/carnd/traffic-signs-data/test.p'\n",
    "\n",
    "training_file = 'E:\\\\udacity\\\\traffic-signs-data\\\\train.p'\n",
    "validation_file='E:\\\\udacity\\\\\\\\traffic-signs-data\\\\valid.p'\n",
    "testing_file = 'E:\\\\udacity\\\\traffic-signs-data\\\\test.p'\n",
    "\n",
    "with open(training_file, mode='rb') as f:\n",
    "    train = pickle.load(f)\n",
    "with open(validation_file, mode='rb') as f:\n",
    "    valid = pickle.load(f)\n",
    "with open(testing_file, mode='rb') as f:\n",
    "    test = pickle.load(f)\n",
    "    \n",
    "X_train, y_train = train['features'], train['labels']\n",
    "X_valid, y_valid = valid['features'], valid['labels']\n",
    "X_test, y_test = test['features'], test['labels']\n",
    "\n",
    "\n",
    "\n",
    "X_train = np.array(X_train, dtype=float)\n",
    "\n",
    "X_valid = np.array(X_valid, dtype=float)\n",
    "\n",
    "X_test = np.array(X_test, dtype=float)"
   ]
  },
  {
   "cell_type": "markdown",
   "metadata": {},
   "source": [
    "---\n",
    "\n",
    "## Step 1: Dataset Summary & Exploration\n",
    "\n",
    "The pickled data is a dictionary with 4 key/value pairs:\n",
    "\n",
    "- `'features'` is a 4D array containing raw pixel data of the traffic sign images, (num examples, width, height, channels).\n",
    "- `'labels'` is a 1D array containing the label/class id of the traffic sign. The file `signnames.csv` contains id -> name mappings for each id.\n",
    "- `'sizes'` is a list containing tuples, (width, height) representing the original width and height the image.\n",
    "- `'coords'` is a list containing tuples, (x1, y1, x2, y2) representing coordinates of a bounding box around the sign in the image. **THESE COORDINATES ASSUME THE ORIGINAL IMAGE. THE PICKLED DATA CONTAINS RESIZED VERSIONS (32 by 32) OF THESE IMAGES**\n",
    "\n",
    "Complete the basic data summary below. Use python, numpy and/or pandas methods to calculate the data summary rather than hard coding the results. For example, the [pandas shape method](http://pandas.pydata.org/pandas-docs/stable/generated/pandas.DataFrame.shape.html) might be useful for calculating some of the summary results. "
   ]
  },
  {
   "cell_type": "markdown",
   "metadata": {},
   "source": [
    "### Provide a Basic Summary of the Data Set Using Python, Numpy and/or Pandas"
   ]
  },
  {
   "cell_type": "code",
   "execution_count": null,
   "metadata": {},
   "outputs": [],
   "source": [
    "### Replace each question mark with the appropriate value. \n",
    "### Use python, pandas or numpy methods rather than hard coding the results\n",
    "\n",
    "# TODO: Number of training examples\n",
    "n_train = len(y_train)\n",
    "\n",
    "# TODO: Number of validation examples\n",
    "n_validation = len(y_valid)\n",
    "\n",
    "# TODO: Number of testing examples.\n",
    "n_test = len(y_test)\n",
    "\n",
    "# TODO: What's the shape of an traffic sign image?\n",
    "image_shape = 32*32*3\n",
    "\n",
    "# TODO: How many unique classes/labels there are in the dataset.\n",
    "n_classes = 43\n",
    "\n",
    "print(\"Number of training examples =\", n_train)\n",
    "print(\"Number of validation examples =\", n_validation)\n",
    "print(\"Number of testing examples =\", n_test)\n",
    "print(\"Image data shape =\", image_shape)\n",
    "print(\"Number of classes =\", n_classes)"
   ]
  },
  {
   "cell_type": "markdown",
   "metadata": {},
   "source": [
    "### Include an exploratory visualization of the dataset"
   ]
  },
  {
   "cell_type": "code",
   "execution_count": null,
   "metadata": {},
   "outputs": [],
   "source": [
    "import numpy as np\n",
    "import matplotlib.mlab as mlab\n",
    "import matplotlib.pyplot as plt\n",
    "\n",
    "def set_stats(data):\n",
    "    #mu, sigma = 100, 15\n",
    "    #x = mu + sigma*np.random.randn(10000)\n",
    "    ## the histogram of the data\n",
    "    hist = np.zeros(43)\n",
    "    for i in range(len(data)):\n",
    "        hist[data[i]] += 1\n",
    "    \n",
    "    for i in range(len(hist)):\n",
    "        print (hist[i])\n",
    "    print()    \n",
    "    \n",
    "set_stats(y_train)\n",
    "set_stats(y_valid)\n",
    "set_stats(y_test)\n",
    "\n",
    "# Brought class representations into Excel. Seems like in training, validation, and test sets a given class is \n",
    "# proportionally represented the same. E.g. Yield signs amount to ~5.5% of the total data set, regardless of whether it's the\n",
    "# training set, validation set, or the test set\n",
    "# \n",
    "# Some classes are definitely more represented than others. Classes with the most representation include Speed limit (50km/h), \n",
    "# Speed limit (30km/h), and Yield which account for ~5.5% of each dataset while those on the lower end of the representation\n",
    "# spectrum include End of all speed and passing limits, Go straight or left, End of no passing which account for ~0.5% of each\n",
    "# dataset\n",
    "\n"
   ]
  },
  {
   "cell_type": "markdown",
   "metadata": {},
   "source": [
    "Visualize the German Traffic Signs Dataset using the pickled file(s). This is open ended, suggestions include: plotting traffic sign images, plotting the count of each sign, etc. \n",
    "\n",
    "The [Matplotlib](http://matplotlib.org/) [examples](http://matplotlib.org/examples/index.html) and [gallery](http://matplotlib.org/gallery.html) pages are a great resource for doing visualizations in Python.\n",
    "\n",
    "**NOTE:** It's recommended you start with something simple first. If you wish to do more, come back to it after you've completed the rest of the sections. It can be interesting to look at the distribution of classes in the training, validation and test set. Is the distribution the same? Are there more examples of some classes than others?"
   ]
  },
  {
   "cell_type": "code",
   "execution_count": null,
   "metadata": {},
   "outputs": [],
   "source": [
    "### Data exploration visualization code goes here.\n",
    "### Feel free to use as many code cells as needed.\n",
    "import matplotlib.pyplot as plt\n",
    "import random\n",
    "# Visualizations will be shown in the notebook.\n",
    "%matplotlib inline\n",
    "\n",
    "index = random.randint(0, len(X_train))\n",
    "image = X_train[index].squeeze()\n",
    "\n",
    "plt.figure(figsize=(4,4))\n",
    "plt.imshow(image)\n",
    "print(y_train[index])"
   ]
  },
  {
   "cell_type": "markdown",
   "metadata": {},
   "source": [
    "----\n",
    "\n",
    "## Step 2: Design and Test a Model Architecture\n",
    "\n",
    "Design and implement a deep learning model that learns to recognize traffic signs. Train and test your model on the [German Traffic Sign Dataset](http://benchmark.ini.rub.de/?section=gtsrb&subsection=dataset).\n",
    "\n",
    "The LeNet-5 implementation shown in the [classroom](https://classroom.udacity.com/nanodegrees/nd013/parts/fbf77062-5703-404e-b60c-95b78b2f3f9e/modules/6df7ae49-c61c-4bb2-a23e-6527e69209ec/lessons/601ae704-1035-4287-8b11-e2c2716217ad/concepts/d4aca031-508f-4e0b-b493-e7b706120f81) at the end of the CNN lesson is a solid starting point. You'll have to change the number of classes and possibly the preprocessing, but aside from that it's plug and play! \n",
    "\n",
    "With the LeNet-5 solution from the lecture, you should expect a validation set accuracy of about 0.89. To meet specifications, the validation set accuracy will need to be at least 0.93. It is possible to get an even higher accuracy, but 0.93 is the minimum for a successful project submission. \n",
    "\n",
    "There are various aspects to consider when thinking about this problem:\n",
    "\n",
    "- Neural network architecture (is the network over or underfitting?)\n",
    "- Play around preprocessing techniques (normalization, rgb to grayscale, etc)\n",
    "- Number of examples per label (some have more than others).\n",
    "- Generate fake data.\n",
    "\n",
    "Here is an example of a [published baseline model on this problem](http://yann.lecun.com/exdb/publis/pdf/sermanet-ijcnn-11.pdf). It's not required to be familiar with the approach used in the paper but, it's good practice to try to read papers like these."
   ]
  },
  {
   "cell_type": "markdown",
   "metadata": {},
   "source": [
    "### Pre-process the Data Set (normalization, grayscale, etc.)"
   ]
  },
  {
   "cell_type": "markdown",
   "metadata": {},
   "source": [
    "Minimally, the image data should be normalized so that the data has mean zero and equal variance. For image data, `(pixel - 128)/ 128` is a quick way to approximately normalize the data and can be used in this project. \n",
    "\n",
    "Other pre-processing steps are optional. You can try different techniques to see if it improves performance. \n",
    "\n",
    "Use the code cell (or multiple code cells, if necessary) to implement the first step of your project."
   ]
  },
  {
   "cell_type": "markdown",
   "metadata": {},
   "source": [
    "### Model Architecture"
   ]
  },
  {
   "cell_type": "code",
   "execution_count": null,
   "metadata": {
    "collapsed": true
   },
   "outputs": [],
   "source": [
    "### Preprocess the data here. It is required to normalize the data. Other preprocessing steps could include \n",
    "### converting to grayscale, etc.\n",
    "### Feel free to use as many code cells as needed.\n",
    "# I end up not using these functions because I randomly apply preprocessing in my neural network architecture\n",
    "from sklearn.utils import shuffle\n",
    "import numpy as np\n",
    "#import cv2\n",
    "\n",
    "def augment_dataset(dataset, labels):\n",
    "    n_iters = len(labels)\n",
    "    \n",
    "    for i in range (n_iters):\n",
    "        # flip the image across the horizontal axis and add to dataset\n",
    "        tmp = dataset[i]\n",
    "        tmp = np.fliplr(tmp)\n",
    "        tmp = np.expand_dims(tmp, axis=0) \n",
    "        dataset = np.append(dataset, tmp, axis=0)\n",
    "        \n",
    "        tmp = labels[i]\n",
    "        tmp = np.expand_dims(tmp, axis=0) \n",
    "        labels = np.append(labels, tmp, axis=0)\n",
    "        \n",
    "        # flip the image across the vertical axis and add to dataset\n",
    "        tmp = dataset[i]\n",
    "        tmp = np.flipud(tmp)\n",
    "        tmp = np.expand_dims(tmp, axis=0) \n",
    "        dataset = np.append(dataset, tmp, axis=0)\n",
    "        \n",
    "        tmp = labels[i]\n",
    "        tmp = np.expand_dims(tmp, axis=0) \n",
    "        labels = np.append(labels, tmp, axis=0)\n",
    "        \n",
    "        # rotate the image 90 degrees and add to dataset\n",
    "        tmp = dataset[i]\n",
    "        tmp = np.rot90(tmp, 1)\n",
    "        tmp = np.expand_dims(tmp, axis=0) \n",
    "        dataset = np.append(dataset, tmp, axis=0)\n",
    "        \n",
    "        tmp = labels[i]\n",
    "        tmp = np.expand_dims(tmp, axis=0) \n",
    "        labels = np.append(labels, tmp, axis=0)\n",
    "        if (i % 100 == 0):\n",
    "            print (\"%.2f percent done\" % (100*(i+0.0)/(n_iters+0.0)) )\n",
    "    return [dataset, labels]\n",
    "\n",
    "#X_train, y_train = shuffle(X_train, y_train)\n",
    "# tf.image.per_image_standardization was a pain so I adapted their processing in np terms\n",
    "# https://github.com/tensorflow/tensorflow/blob/r1.1/tensorflow/python/ops/image_ops_impl.py \n",
    "def preproc(image_data):\n",
    "    image_mean = np.mean(image_data)\n",
    "    variance = np.mean(np.power(image_data,2)) - np.power(image_mean,2)\n",
    "    stddev = np.sqrt(variance)\n",
    "    num_pixels = image_data.shape[0]*image_data.shape[1]*image_data.shape[2]\n",
    "    min_std_dev = np.power(num_pixels, -0.5)\n",
    "    pixel_val_scale = max(stddev, min_std_dev)\n",
    "    pixel_val_offset = image_mean\n",
    "    out_data = image_data - pixel_val_offset\n",
    "    out_data /= pixel_val_scale\n",
    "    return out_data\n",
    "    #return 0.1 + image_data*0.8/255."
   ]
  },
  {
   "cell_type": "code",
   "execution_count": null,
   "metadata": {
    "collapsed": true
   },
   "outputs": [],
   "source": [
    "# augment only the training set\n",
    "#X_train, y_train = augment_dataset(X_train, y_train)\n",
    "#X_valid, y_valid = augment_dataset(X_valid, y_valid)\n",
    "#X_test, y_test = augment_dataset(X_test, y_test)\n",
    "\n",
    "# save augmented training set\n",
    "#aug_training_file = '/home/carnd/traffic-signs-data/aug_raw_train.p'\n",
    "#try:\n",
    "#    with open(aug_training_file, 'wb') as pfile:\n",
    "#        pickle.dump(\n",
    "#            {\n",
    "#                'features': X_train,\n",
    "#                'labels': y_train,\n",
    "#            },\n",
    "#            pfile, pickle.HIGHEST_PROTOCOL)\n",
    "#except Exception as e:\n",
    "#    print('Unable to save data to', pickle_file, ':', e)\n",
    "#    raise"
   ]
  },
  {
   "cell_type": "code",
   "execution_count": null,
   "metadata": {
    "collapsed": true
   },
   "outputs": [],
   "source": [
    "# do image mean subtraction and normalization on training, validation, and test sets\n",
    "\n",
    "#for i in range (len(X_train)):\n",
    "#    X_train[i] = preproc(X_train[i])\n",
    "#for i in range (len(X_valid)):\n",
    "#    X_valid[i] = preproc(X_valid[i])\n",
    "#for i in range (len(X_test)):\n",
    "#    X_test[i] = preproc(X_test[i])"
   ]
  },
  {
   "cell_type": "code",
   "execution_count": null,
   "metadata": {
    "collapsed": true
   },
   "outputs": [],
   "source": [
    "# augment only the training set\n",
    "#X_train, y_train = augment_dataset(X_train, y_train)\n",
    "#X_valid, y_valid = augment_dataset(X_valid, y_valid)\n",
    "#X_test, y_test = augment_dataset(X_test, y_test)\n",
    "\n",
    "# save augmented training set\n",
    "#aug_training_file = '/home/carnd/traffic-signs-data/aug_preproc_train.p'\n",
    "#try:\n",
    "#    with open(aug_training_file, 'wb') as pfile:\n",
    "#        pickle.dump(\n",
    "#            {\n",
    "#                'features': X_train,\n",
    "#                'labels': y_train,\n",
    "#            },\n",
    "#            pfile, pickle.HIGHEST_PROTOCOL)\n",
    "#except Exception as e:\n",
    "#    print('Unable to save data to', pickle_file, ':', e)\n",
    "#    raise"
   ]
  },
  {
   "cell_type": "code",
   "execution_count": null,
   "metadata": {
    "collapsed": true
   },
   "outputs": [],
   "source": [
    "import tensorflow as tf\n",
    "\n",
    "EPOCHS = 70\n",
    "BATCH_SIZE = 64\n",
    "\n"
   ]
  },
  {
   "cell_type": "code",
   "execution_count": null,
   "metadata": {
    "collapsed": true
   },
   "outputs": [],
   "source": [
    "### Define your architecture here.\n",
    "### Feel free to use as many code cells as needed.\n",
    "\n",
    "from tensorflow.contrib.layers import flatten\n",
    "\n",
    "def AaroNet(x):    \n",
    "    # Arguments used for tf.truncated_normal, randomly defines variables for the weights and biases for each layer\n",
    "    mu = 0\n",
    "    sigma = 0.1\n",
    "    # Layer 2 with BN, using Tensorflows built-in BN function\n",
    "    #epsilon = 1e-3\n",
    "    #batch_mean2, batch_var2 = tf.nn.moments(x,[0])\n",
    "    #scale2 = tf.Variable(tf.ones([32,32,3]))\n",
    "    #beta2 = tf.Variable(tf.zeros([32,32,3]))\n",
    "    #x = tf.nn.batch_normalization(x,batch_mean2,batch_var2,beta2,scale2,epsilon)\n",
    "    \n",
    "    #x = tf.map_fn(lambda img: tf.image.random_flip_left_right(img), x)\n",
    "    #x = tf.map_fn(lambda img: tf.image.random_saturation(img, 0, 10), x)\n",
    "    #x = tf.map_fn(lambda img: tf.image.random_saturation(img, 0, 10), x)\n",
    "    # pipeline from https://stackoverflow.com/questions/37529571/how-is-data-augmentation-implemented-in-tensorflow\n",
    "    \n",
    "    #these are done to each batch...\n",
    "    x = tf.map_fn(lambda img: tf.image.random_flip_left_right(img), x)\n",
    "    x = tf.map_fn(lambda img: tf.image.random_brightness(img, max_delta=63), x)\n",
    "    x = tf.map_fn(lambda img: tf.image.random_contrast(img, lower=0.2, upper=1.8), x)\n",
    "    x = tf.map_fn(lambda img: tf.image.per_image_standardization(img), x)\n",
    "    \n",
    "    # TODO: Layer 1: Convolutional. Input = 32x32x1. Output = 28x28x48.\n",
    "    layer_1_filter_depth = 48\n",
    "    conv1_W = tf.Variable(tf.truncated_normal(shape=(5, 5, 3, layer_1_filter_depth), mean = mu, stddev = sigma))\n",
    "    conv1_b = tf.Variable(tf.zeros(layer_1_filter_depth))\n",
    "    conv1 = tf.nn.conv2d(x, conv1_W, strides=[1,1,1,1], padding='VALID') + conv1_b\n",
    "\n",
    "    # TODO: Activation.\n",
    "    conv1 = tf.nn.relu(conv1)\n",
    "    \n",
    "    # TODO: Pooling. Input = 28x28x6. Output = 14x14x48.\n",
    "    conv1 = tf.nn.max_pool(conv1, ksize=[1, 2, 2, 1], strides=[1, 2, 2, 1], padding='VALID')\n",
    "\n",
    "    # TODO: Layer 2: Convolutional. Output = 10x10x96.\n",
    "    layer_2_filter_depth = 96\n",
    "    conv2_W = tf.Variable(tf.truncated_normal(shape=(5, 5, layer_1_filter_depth, layer_2_filter_depth), mean = mu, stddev = sigma))\n",
    "    conv2_b = tf.Variable(tf.zeros(layer_2_filter_depth))\n",
    "    conv2 = tf.nn.conv2d(conv1, conv2_W, strides=[1,1,1,1], padding='VALID') + conv2_b\n",
    "    \n",
    "    # TODO: Activation.\n",
    "    conv2 = tf.nn.relu(conv2)\n",
    "    \n",
    "    # TODO: Pooling. Input = 10x10x16. Output = 5x5x96.\n",
    "    conv2 = tf.nn.max_pool(conv2, ksize=[1,2,2,1], strides=[1,2,2,1], padding='VALID')\n",
    "    \n",
    "    # TODO: Flatten. Input = 5x5x96. Output = 2400.\n",
    "    fc1 = flatten(conv2)\n",
    "    \n",
    "    # TODO: Layer 3: Fully Connected. Input = 2400. Output = 192.\n",
    "    layer_3_depth = 192\n",
    "    fc1_W = tf.Variable(tf.truncated_normal(shape=(5*5*layer_2_filter_depth, layer_3_depth), mean = mu, stddev = sigma))\n",
    "    fc1_b = tf.Variable(tf.zeros(layer_3_depth))  \n",
    "    fc1 = tf.add(tf.matmul(fc1, fc1_W), fc1_b)    \n",
    "    \n",
    "    # TODO: Activation.\n",
    "    fc1 = tf.nn.relu(fc1)\n",
    "\n",
    "    # TODO: Layer 4: Fully Connected. Input = 192. Output = 96.\n",
    "    layer_4_depth = 96\n",
    "    fc2_W = tf.Variable(tf.truncated_normal([layer_3_depth, layer_4_depth]))\n",
    "    fc2_b = tf.Variable(tf.truncated_normal([layer_4_depth]))\n",
    "    fc2 = tf.add(tf.matmul(fc1, fc2_W), fc2_b)\n",
    "    \n",
    "    # TODO: Activation.\n",
    "    fc2 = tf.nn.relu(fc2)\n",
    "\n",
    "    # TODO: Layer 5: Fully Connected. Input = 84. Output = 10.\n",
    "    output_size = 43\n",
    "    fc3_W = tf.Variable(tf.truncated_normal([layer_4_depth, 43]))\n",
    "    fc3_b = tf.Variable(tf.truncated_normal([43]))\n",
    "    fc3 = tf.add(tf.matmul(fc2, fc3_W), fc3_b)\n",
    "    \n",
    "    logits = tf.nn.relu(fc3)\n",
    "    \n",
    "    return logits"
   ]
  },
  {
   "cell_type": "code",
   "execution_count": null,
   "metadata": {
    "collapsed": true
   },
   "outputs": [],
   "source": [
    "x = tf.placeholder(tf.float32, (None, 32, 32, 3))\n",
    "y = tf.placeholder(tf.int32, (None))\n",
    "one_hot_y = tf.one_hot(y, 43)"
   ]
  },
  {
   "cell_type": "markdown",
   "metadata": {},
   "source": [
    "### Train, Validate and Test the Model"
   ]
  },
  {
   "cell_type": "markdown",
   "metadata": {},
   "source": [
    "A validation set can be used to assess how well the model is performing. A low accuracy on the training and validation\n",
    "sets imply underfitting. A high accuracy on the training set but low accuracy on the validation set implies overfitting."
   ]
  },
  {
   "cell_type": "code",
   "execution_count": null,
   "metadata": {
    "collapsed": true
   },
   "outputs": [],
   "source": [
    "# Train your model here.\n",
    "### Calculate and report the accuracy on the training and validation set.\n",
    "### Once a final model architecture is selected, \n",
    "### the accuracy on the test set should be calculated and reported as well.\n",
    "### Feel free to use as many code cells as needed.\n",
    "\n",
    "rate = 0.0005\n",
    "\n",
    "logits = AaroNet(x)\n",
    "cross_entropy = tf.nn.softmax_cross_entropy_with_logits(labels=one_hot_y, logits=logits)\n",
    "loss_operation = tf.reduce_mean(cross_entropy)\n",
    "optimizer = tf.train.AdamOptimizer(learning_rate = rate)\n",
    "training_operation = optimizer.minimize(loss_operation)"
   ]
  },
  {
   "cell_type": "code",
   "execution_count": null,
   "metadata": {
    "collapsed": true
   },
   "outputs": [],
   "source": [
    "correct_prediction = tf.equal(tf.argmax(logits, 1), tf.argmax(one_hot_y, 1))\n",
    "accuracy_operation = tf.reduce_mean(tf.cast(correct_prediction, tf.float32))\n",
    "saver = tf.train.Saver()\n",
    "\n",
    "def evaluate(X_data, y_data):\n",
    "    num_examples = len(X_data)\n",
    "    total_accuracy = 0\n",
    "    sess = tf.get_default_session()\n",
    "    for offset in range(0, num_examples, BATCH_SIZE):\n",
    "        batch_x, batch_y = X_data[offset:offset+BATCH_SIZE], y_data[offset:offset+BATCH_SIZE]\n",
    "        accuracy = sess.run(accuracy_operation, feed_dict={x: batch_x, y: batch_y})\n",
    "        total_accuracy += (accuracy * len(batch_x))\n",
    "    return total_accuracy / num_examples"
   ]
  },
  {
   "cell_type": "code",
   "execution_count": null,
   "metadata": {},
   "outputs": [],
   "source": [
    "with tf.Session() as sess:\n",
    "    sess.run(tf.global_variables_initializer())\n",
    "    num_examples = len(X_train)\n",
    "    ind = 0\n",
    "    print(\"Training on %d examples...\" % num_examples)\n",
    "    print()\n",
    "    for i in range(EPOCHS):\n",
    "        X_train, y_train = shuffle(X_train, y_train)\n",
    "        #print (X_train[0])\n",
    "        for offset in range(0, num_examples, BATCH_SIZE):\n",
    "            end = offset + BATCH_SIZE\n",
    "            batch_x, batch_y = X_train[offset:end], y_train[offset:end]\n",
    "            sess.run(training_operation, feed_dict={x: batch_x, y: batch_y})\n",
    "            if (ind % 50 == 0):\n",
    "                myerror = sess.run(loss_operation, feed_dict={x: batch_x, y: batch_y})\n",
    "                print (\"error: %f\" % myerror)\n",
    "            ind += 1\n",
    "            \n",
    "        validation_accuracy = evaluate(X_valid, y_valid)\n",
    "        \n",
    "        print(\"EPOCH {} ...\".format(i+1))\n",
    "        #if (i+1) % 10 == 0:\n",
    "        #    asavefile='./aaronet_lr_0005_l1_48_l2_96_l3_192_l4_96_e_{}_bat_64'.format(i+1)\n",
    "        #    saver.save(sess, asavefile)\n",
    "        #    print(\"Model saved: %s\" % asavefile)\n",
    "        print(\"Validation Accuracy = {:.3f}\".format(validation_accuracy))\n",
    "        print()\n",
    "    #test_accuracy = evaluate(X_test, y_test)\n",
    "    #print(\"EPOCH {} ...\".format(i+1))\n",
    "    #print(\"Test Accuracy = {:.3f}\".format(test_accuracy))\n",
    "        \n",
    "    saver.save(sess, './aaronet')\n",
    "    print(\"Model saved\")"
   ]
  },
  {
   "cell_type": "code",
   "execution_count": null,
   "metadata": {},
   "outputs": [],
   "source": [
    "saver = tf.train.Saver()\n",
    "\n",
    "# Launch the graph\n",
    "with tf.Session() as sess:\n",
    "    saver.restore(sess, './models/aaronet_lr_0005_l1_48_l2_96_l3_192_l4_96_e_70_bat_64')\n",
    "    #sess.run(tf.global_variables_initializer())\n",
    "\n",
    "    train_accuracy = evaluate(X_train, y_train)\n",
    "\n",
    "    print('Training Accuracy: {}'.format(train_accuracy))"
   ]
  },
  {
   "cell_type": "code",
   "execution_count": null,
   "metadata": {},
   "outputs": [],
   "source": [
    "saver = tf.train.Saver()\n",
    "\n",
    "# Launch the graph\n",
    "with tf.Session() as sess:\n",
    "    saver.restore(sess, './models/aaronet_lr_0005_l1_48_l2_96_l3_192_l4_96_e_70_bat_64')\n",
    "    #sess.run(tf.global_variables_initializer())\n",
    "\n",
    "    valid_accuracy = evaluate(X_valid, y_valid)\n",
    "\n",
    "    print('Validation Accuracy: {}'.format(valid_accuracy))"
   ]
  },
  {
   "cell_type": "code",
   "execution_count": null,
   "metadata": {},
   "outputs": [],
   "source": [
    "saver = tf.train.Saver()\n",
    "\n",
    "# Launch the graph\n",
    "with tf.Session() as sess:\n",
    "    saver.restore(sess, './models/aaronet_lr_0005_l1_48_l2_96_l3_192_l4_96_e_70_bat_64')\n",
    "    #sess.run(tf.global_variables_initializer())\n",
    "\n",
    "    test_accuracy = evaluate(X_test, y_test)\n",
    "\n",
    "    print('Test Accuracy: {}'.format(test_accuracy))"
   ]
  },
  {
   "cell_type": "markdown",
   "metadata": {},
   "source": [
    "---\n",
    "\n",
    "## Step 3: Test a Model on New Images\n",
    "\n",
    "To give yourself more insight into how your model is working, download at least five pictures of German traffic signs from the web and use your model to predict the traffic sign type.\n",
    "\n",
    "You may find `signnames.csv` useful as it contains mappings from the class id (integer) to the actual sign name."
   ]
  },
  {
   "cell_type": "markdown",
   "metadata": {},
   "source": [
    "### Load and Output the Images"
   ]
  },
  {
   "cell_type": "code",
   "execution_count": null,
   "metadata": {
    "collapsed": true
   },
   "outputs": [],
   "source": [
    "correct_prediction = tf.equal(tf.argmax(logits, 1), tf.argmax(one_hot_y, 1))\n",
    "accuracy_operation = tf.reduce_mean(tf.cast(correct_prediction, tf.float32))\n",
    "#accuracy_operation = tf.nn.top_k(accuracy_operation, k=3)\n",
    "saver = tf.train.Saver()\n",
    "\n",
    "def get_logits(X_data, y_data):\n",
    "    num_examples = len(X_data)\n",
    "    total_accuracy = 0\n",
    "    sess = tf.get_default_session()\n",
    "    for offset in range(0, num_examples, BATCH_SIZE):\n",
    "        batch_x, batch_y = X_data[offset:offset+BATCH_SIZE], y_data[offset:offset+BATCH_SIZE]\n",
    "        accuracy = sess.run(logits, feed_dict={x: batch_x, y: batch_y})\n",
    "    return accuracy"
   ]
  },
  {
   "cell_type": "code",
   "execution_count": null,
   "metadata": {
    "collapsed": true
   },
   "outputs": [],
   "source": [
    "correct_prediction = tf.equal(tf.argmax(logits, 1), tf.argmax(one_hot_y, 1))\n",
    "accuracy_operation = tf.reduce_mean(tf.cast(correct_prediction, tf.float32))\n",
    "#accuracy_operation = tf.nn.top_k(accuracy_operation, k=3)\n",
    "saver = tf.train.Saver()\n",
    "\n",
    "def get_prediction(X_data, y_data):\n",
    "    num_examples = len(X_data)\n",
    "    total_accuracy = 0\n",
    "    sess = tf.get_default_session()\n",
    "    for offset in range(0, num_examples, BATCH_SIZE):\n",
    "        batch_x, batch_y = X_data[offset:offset+BATCH_SIZE], y_data[offset:offset+BATCH_SIZE]\n",
    "        accuracy = sess.run(accuracy_operation, feed_dict={x: batch_x, y: batch_y})\n",
    "    return accuracy"
   ]
  },
  {
   "cell_type": "markdown",
   "metadata": {},
   "source": [
    "### Predict the Sign Type for Each Image"
   ]
  },
  {
   "cell_type": "code",
   "execution_count": null,
   "metadata": {
    "collapsed": true
   },
   "outputs": [],
   "source": [
    "### Run the predictions here and use the model to output the prediction for each image.\n",
    "### Make sure to pre-process the images with the same pre-processing pipeline used earlier.\n",
    "### Feel free to use as many code cells as needed.\n"
   ]
  },
  {
   "cell_type": "code",
   "execution_count": null,
   "metadata": {},
   "outputs": [],
   "source": [
    "### Load the images and plot them here.\n",
    "### Feel free to use as many code cells as needed.\n",
    "### Data exploration visualization code goes here.\n",
    "### Feel free to use as many code cells as needed.\n",
    "import matplotlib.pyplot as plt\n",
    "import matplotlib.image as mpimg\n",
    "import numpy as np\n",
    "from PIL import Image\n",
    "%matplotlib inline\n",
    "\n",
    "def classify_img(imfile, class_id):\n",
    "    img = Image.open(imfile)\n",
    "    #newguy = img.resize((32, 32)) # resizes image in-place\n",
    "    #imgplot = plt.imshow(img)\n",
    "    npimg = np.array(img)\n",
    "    npimg.shape\n",
    "    Ax_train = []\n",
    "    Ay_train = []\n",
    "    Ax_train.append(npimg)\n",
    "    Ay_train.append(class_id)\n",
    "\n",
    "    saver = tf.train.Saver()\n",
    "\n",
    "    # Launch the graph\n",
    "    with tf.Session() as sess:\n",
    "        saver.restore(sess, './models/aaronet_lr_0005_l1_48_l2_96_l3_192_l4_96_e_70_bat_64')\n",
    "        #sess.run(tf.global_variables_initializer())\n",
    "\n",
    "        prediction = get_prediction(Ax_train, Ay_train)\n",
    "        print (prediction)\n",
    "\n",
    "    \n",
    "classify_img('test/german-yield.jpg', 13)\n",
    "classify_img('test/german-roundabout-part.jpg', 40) \n",
    "classify_img('test/german-speed-limit-50-kph.jpg', 2)\n",
    "classify_img('test/german-stop-sign.jpg', 14)\n",
    "classify_img('test/german-straight-or-left.jpg', 37)\n"
   ]
  },
  {
   "cell_type": "markdown",
   "metadata": {},
   "source": [
    "### Analyze Performance"
   ]
  },
  {
   "cell_type": "code",
   "execution_count": null,
   "metadata": {
    "collapsed": true
   },
   "outputs": [],
   "source": [
    "### Calculate the accuracy for these 5 new images. \n",
    "### For example, if the model predicted 1 out of 5 signs correctly, it's 20% accurate on these new images."
   ]
  },
  {
   "cell_type": "markdown",
   "metadata": {},
   "source": [
    "### Output Top 5 Softmax Probabilities For Each Image Found on the Web"
   ]
  },
  {
   "cell_type": "markdown",
   "metadata": {},
   "source": [
    "For each of the new images, print out the model's softmax probabilities to show the **certainty** of the model's predictions (limit the output to the top 5 probabilities for each image). [`tf.nn.top_k`](https://www.tensorflow.org/versions/r0.12/api_docs/python/nn.html#top_k) could prove helpful here. \n",
    "\n",
    "The example below demonstrates how tf.nn.top_k can be used to find the top k predictions for each image.\n",
    "\n",
    "`tf.nn.top_k` will return the values and indices (class ids) of the top k predictions. So if k=3, for each sign, it'll return the 3 largest probabilities (out of a possible 43) and the correspoding class ids.\n",
    "\n",
    "Take this numpy array as an example. The values in the array represent predictions. The array contains softmax probabilities for five candidate images with six possible classes. `tf.nn.top_k` is used to choose the three classes with the highest probability:\n",
    "\n",
    "```\n",
    "# (5, 6) array\n",
    "a = np.array([[ 0.24879643,  0.07032244,  0.12641572,  0.34763842,  0.07893497,\n",
    "         0.12789202],\n",
    "       [ 0.28086119,  0.27569815,  0.08594638,  0.0178669 ,  0.18063401,\n",
    "         0.15899337],\n",
    "       [ 0.26076848,  0.23664738,  0.08020603,  0.07001922,  0.1134371 ,\n",
    "         0.23892179],\n",
    "       [ 0.11943333,  0.29198961,  0.02605103,  0.26234032,  0.1351348 ,\n",
    "         0.16505091],\n",
    "       [ 0.09561176,  0.34396535,  0.0643941 ,  0.16240774,  0.24206137,\n",
    "         0.09155967]])\n",
    "```\n",
    "\n",
    "Running it through `sess.run(tf.nn.top_k(tf.constant(a), k=3))` produces:\n",
    "\n",
    "```\n",
    "TopKV2(values=array([[ 0.34763842,  0.24879643,  0.12789202],\n",
    "       [ 0.28086119,  0.27569815,  0.18063401],\n",
    "       [ 0.26076848,  0.23892179,  0.23664738],\n",
    "       [ 0.29198961,  0.26234032,  0.16505091],\n",
    "       [ 0.34396535,  0.24206137,  0.16240774]]), indices=array([[3, 0, 5],\n",
    "       [0, 1, 4],\n",
    "       [0, 5, 1],\n",
    "       [1, 3, 5],\n",
    "       [1, 4, 3]], dtype=int32))\n",
    "```\n",
    "\n",
    "Looking just at the first row we get `[ 0.34763842,  0.24879643,  0.12789202]`, you can confirm these are the 3 largest probabilities in `a`. You'll also notice `[3, 0, 5]` are the corresponding indices."
   ]
  },
  {
   "cell_type": "code",
   "execution_count": null,
   "metadata": {},
   "outputs": [],
   "source": [
    "### Load the images and plot them here.\n",
    "### Feel free to use as many code cells as needed.\n",
    "### Data exploration visualization code goes here.\n",
    "### Feel free to use as many code cells as needed.\n",
    "import matplotlib.pyplot as plt\n",
    "import matplotlib.image as mpimg\n",
    "import numpy as np\n",
    "from PIL import Image\n",
    "%matplotlib inline\n",
    "\n",
    "def classify_img(imfile, class_id):\n",
    "    img = Image.open(imfile)\n",
    "    #newguy = img.resize((32, 32)) # resizes image in-place\n",
    "    #imgplot = plt.imshow(img)\n",
    "    npimg = np.array(img)\n",
    "    npimg.shape\n",
    "    Ax_train = []\n",
    "    Ay_train = []\n",
    "    Ax_train.append(npimg)\n",
    "    Ay_train.append(class_id)\n",
    "\n",
    "    saver = tf.train.Saver()\n",
    "\n",
    "    # Launch the graph\n",
    "    with tf.Session() as sess:\n",
    "        saver.restore(sess, './models/aaronet_lr_0005_l1_48_l2_96_l3_192_l4_96_e_70_bat_64')\n",
    "        #sess.run(tf.global_variables_initializer())\n",
    "\n",
    "        topk = get_logits(Ax_train, Ay_train)\n",
    "        topk_values, topk_indices = sess.run(tf.nn.top_k(topk, k=5))\n",
    "        softmax = sess.run(tf.nn.softmax(topk))\n",
    "        #print (softmax.shape)\n",
    "        #print (\"Correct class is: {}. Top 3 choices are {} ({}), {} ({}), {} ({})\".format(class_id, topk_indices[0][0], topk_values[0][0], topk_indices[0][1], topk_values[0][1], topk_indices[0][2], topk_values[0][2]))\n",
    "        print (\"Correct class is: {}. Top 5 choices are {} ({}), {} ({}), {} ({}), {} ({}), {} ({})\".format(class_id, \n",
    "            topk_indices[0][0], 100*softmax[0][topk_indices[0][0]], \n",
    "            topk_indices[0][1], 100*softmax[0][topk_indices[0][1]], \n",
    "            topk_indices[0][2], 100*softmax[0][topk_indices[0][2]],\n",
    "            topk_indices[0][3], 100*softmax[0][topk_indices[0][3]],\n",
    "            topk_indices[0][4], 100*softmax[0][topk_indices[0][4]]\n",
    "                ),\n",
    "                )\n",
    "\n",
    "    \n",
    "classify_img('test/german-yield.jpg', 13)\n",
    "classify_img('test/german-roundabout-part.jpg', 40) \n",
    "classify_img('test/german-speed-limit-50-kph.jpg', 2)\n",
    "classify_img('test/german-stop-sign.jpg', 14)\n",
    "classify_img('test/german-straight-or-left.jpg', 37)\n"
   ]
  },
  {
   "cell_type": "markdown",
   "metadata": {},
   "source": [
    "### Project Writeup\n",
    "\n",
    "Once you have completed the code implementation, document your results in a project writeup using this [template](https://github.com/udacity/CarND-Traffic-Sign-Classifier-Project/blob/master/writeup_template.md) as a guide. The writeup can be in a markdown or pdf file. "
   ]
  },
  {
   "cell_type": "markdown",
   "metadata": {},
   "source": [
    "> **Note**: Once you have completed all of the code implementations and successfully answered each question above, you may finalize your work by exporting the iPython Notebook as an HTML document. You can do this by using the menu above and navigating to  \\n\",\n",
    "    \"**File -> Download as -> HTML (.html)**. Include the finished document along with this notebook as your submission."
   ]
  },
  {
   "cell_type": "markdown",
   "metadata": {},
   "source": [
    "---\n",
    "\n",
    "## Step 4 (Optional): Visualize the Neural Network's State with Test Images\n",
    "\n",
    " This Section is not required to complete but acts as an additional excersise for understaning the output of a neural network's weights. While neural networks can be a great learning device they are often referred to as a black box. We can understand what the weights of a neural network look like better by plotting their feature maps. After successfully training your neural network you can see what it's feature maps look like by plotting the output of the network's weight layers in response to a test stimuli image. From these plotted feature maps, it's possible to see what characteristics of an image the network finds interesting. For a sign, maybe the inner network feature maps react with high activation to the sign's boundary outline or to the contrast in the sign's painted symbol.\n",
    "\n",
    " Provided for you below is the function code that allows you to get the visualization output of any tensorflow weight layer you want. The inputs to the function should be a stimuli image, one used during training or a new one you provided, and then the tensorflow variable name that represents the layer's state during the training process, for instance if you wanted to see what the [LeNet lab's](https://classroom.udacity.com/nanodegrees/nd013/parts/fbf77062-5703-404e-b60c-95b78b2f3f9e/modules/6df7ae49-c61c-4bb2-a23e-6527e69209ec/lessons/601ae704-1035-4287-8b11-e2c2716217ad/concepts/d4aca031-508f-4e0b-b493-e7b706120f81) feature maps looked like for it's second convolutional layer you could enter conv2 as the tf_activation variable.\n",
    "\n",
    "For an example of what feature map outputs look like, check out NVIDIA's results in their paper [End-to-End Deep Learning for Self-Driving Cars](https://devblogs.nvidia.com/parallelforall/deep-learning-self-driving-cars/) in the section Visualization of internal CNN State. NVIDIA was able to show that their network's inner weights had high activations to road boundary lines by comparing feature maps from an image with a clear path to one without. Try experimenting with a similar test to show that your trained network's weights are looking for interesting features, whether it's looking at differences in feature maps from images with or without a sign, or even what feature maps look like in a trained network vs a completely untrained one on the same sign image.\n",
    "\n",
    "<figure>\n",
    " <img src=\"visualize_cnn.png\" width=\"380\" alt=\"Combined Image\" />\n",
    " <figcaption>\n",
    " <p></p> \n",
    " <p style=\"text-align: center;\"> Your output should look something like this (above)</p> \n",
    " </figcaption>\n",
    "</figure>\n",
    " <p></p> \n"
   ]
  },
  {
   "cell_type": "code",
   "execution_count": null,
   "metadata": {},
   "outputs": [],
   "source": [
    "### Visualize your network's feature maps here.\n",
    "### Feel free to use as many code cells as needed.\n",
    "\n",
    "# image_input: the test image being fed into the network to produce the feature maps\n",
    "# tf_activation: should be a tf variable name used during your training procedure that represents the calculated state of a specific weight layer\n",
    "# activation_min/max: can be used to view the activation contrast in more detail, by default matplot sets min and max to the actual min and max values of the output\n",
    "# plt_num: used to plot out multiple different weight feature map sets on the same block, just extend the plt number for each new feature map entry\n",
    "\n",
    "import matplotlib.pyplot as plt\n",
    "import matplotlib.image as mpimg\n",
    "import numpy as np\n",
    "from PIL import Image\n",
    "%matplotlib inline\n",
    "\n",
    "#https://gist.github.com/vdt/42bae2e754cf9dbaa0c8b3a77e103dc2\n",
    "\n",
    "def outputFeatureMap(image_input, tf_activation, activation_min=-1, activation_max=-1 ,plt_num=1):\n",
    "    # Here make sure to preprocess your image_input in a way your network expects\n",
    "    # with size, normalization, ect if needed\n",
    "    # image_input =\n",
    "    # Note: x should be the same name as your network's tensorflow data placeholder variable\n",
    "    # If you get an error tf_activation is not defined it may be having trouble accessing the variable from inside a function\n",
    "    activation = tf_activation.eval(session=sess,feed_dict={x : image_input})\n",
    "    featuremaps = activation.shape[3]\n",
    "    plt.figure(plt_num, figsize=(15,15))\n",
    "    for featuremap in range(featuremaps):\n",
    "        plt.subplot(6,8, featuremap+1) # sets the number of feature maps to show on each row and column\n",
    "        plt.title('FeatureMap ' + str(featuremap)) # displays the feature map number\n",
    "        if activation_min != -1 & activation_max != -1:\n",
    "            plt.imshow(activation[0,:,:, featuremap], interpolation=\"nearest\", vmin =activation_min, vmax=activation_max, cmap=\"gray\")\n",
    "        elif activation_max != -1:\n",
    "            plt.imshow(activation[0,:,:, featuremap], interpolation=\"nearest\", vmax=activation_max, cmap=\"gray\")\n",
    "        elif activation_min !=-1:\n",
    "            plt.imshow(activation[0,:,:, featuremap], interpolation=\"nearest\", vmin=activation_min, cmap=\"gray\")\n",
    "        else:\n",
    "            plt.imshow(activation[0,:,:, featuremap], interpolation=\"nearest\", cmap=\"gray\")\n",
    "\n",
    "img = Image.open('test/german-yield.jpg')\n",
    "img = np.array(img)\n",
    "img_array = []\n",
    "img_array.append(img)\n",
    "\n",
    "with tf.Session() as sess:\n",
    "    sess.run(tf.global_variables_initializer())\n",
    "    sess.run(outputFeatureMap(img_array, conv1))"
   ]
  },
  {
   "cell_type": "code",
   "execution_count": null,
   "metadata": {
    "collapsed": true
   },
   "outputs": [],
   "source": []
  }
 ],
 "metadata": {
  "anaconda-cloud": {},
  "kernelspec": {
   "display_name": "Python 3",
   "language": "python",
   "name": "python3"
  },
  "language_info": {
   "codemirror_mode": {
    "name": "ipython",
    "version": 3
   },
   "file_extension": ".py",
   "mimetype": "text/x-python",
   "name": "python",
   "nbconvert_exporter": "python",
   "pygments_lexer": "ipython3",
   "version": "3.5.2"
  },
  "widgets": {
   "state": {},
   "version": "1.1.2"
  }
 },
 "nbformat": 4,
 "nbformat_minor": 1
}
